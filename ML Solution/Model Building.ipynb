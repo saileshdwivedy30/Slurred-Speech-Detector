{
  "nbformat": 4,
  "nbformat_minor": 0,
  "metadata": {
    "colab": {
      "provenance": []
    },
    "kernelspec": {
      "name": "python3",
      "display_name": "Python 3"
    },
    "language_info": {
      "name": "python"
    }
  },
  "cells": [
    {
      "cell_type": "code",
      "source": [
        "import os\n",
        "import re\n",
        "import zipfile\n",
        "import pandas as pd\n",
        "import librosa\n",
        "import numpy as np\n",
        "from sklearn.model_selection import train_test_split\n",
        "from sklearn.ensemble import RandomForestClassifier\n",
        "from sklearn.metrics import classification_report, confusion_matrix\n",
        "import matplotlib.pyplot as plt\n",
        "import seaborn as sns\n",
        "import lightgbm as lgb"
      ],
      "metadata": {
        "id": "aYZ9eK1lXaaj"
      },
      "execution_count": 230,
      "outputs": []
    },
    {
      "cell_type": "markdown",
      "source": [
        "## Data Read and Prep"
      ],
      "metadata": {
        "id": "5zXh5n5yvqjY"
      }
    },
    {
      "cell_type": "code",
      "execution_count": 17,
      "metadata": {
        "id": "R0UFMLR3LGjs"
      },
      "outputs": [],
      "source": [
        "data_path = '/content/drive/MyDrive/Speech project/torgo_dataset/'  # Path to extract files\n",
        "\n",
        "# Data Reading\n",
        "directory = data_path\n",
        "\n",
        "data_headmic = []\n",
        "data_arraymic = []\n",
        "\n",
        "# Regular expression patterns (case-insensitive)\n",
        "pattern_male_with_dysarthria = r'M0'\n",
        "pattern_male_without_dysarthria = r'MC0'\n",
        "pattern_female_with_dysarthria = r'F0'\n",
        "pattern_female_without_dysarthria = r'FC0'\n",
        "pattern_arrayMic = r'arrayMic'\n",
        "pattern_headMic = r'headMic'\n",
        "\n",
        "# Iterate over the files in the directory and its subfolders\n",
        "for root, dirs, files in os.walk(directory):\n",
        "    for filename in files:\n",
        "        if filename.endswith('.wav'):  # Process only .wav files\n",
        "            filepath = os.path.join(root, filename)\n",
        "\n",
        "            # Extract information from the filename using regular expressions\n",
        "            is_male_with_dysarthria = bool(re.search(pattern_male_with_dysarthria, filename, re.IGNORECASE))\n",
        "            is_male_without_dysarthria = bool(re.search(pattern_male_without_dysarthria, filename, re.IGNORECASE))\n",
        "            is_female_with_dysarthria = bool(re.search(pattern_female_with_dysarthria, filename, re.IGNORECASE))\n",
        "            is_female_without_dysarthria = bool(re.search(pattern_female_without_dysarthria, filename, re.IGNORECASE))\n",
        "            is_arraymic = bool(re.search(pattern_arrayMic, filename, re.IGNORECASE))\n",
        "            is_headmic = bool(re.search(pattern_headMic, filename, re.IGNORECASE))\n",
        "\n",
        "            # Determine gender and condition\n",
        "            gender = 'male' if is_male_with_dysarthria or is_male_without_dysarthria else 'female'\n",
        "            condition = 'with_dysarthria' if is_male_with_dysarthria or is_female_with_dysarthria else 'without_dysarthria'\n",
        "\n",
        "            # Append the data to the corresponding list based on microphone type\n",
        "            if is_arraymic:\n",
        "                data_arraymic.append([gender, condition, filepath])\n",
        "            elif is_headmic:\n",
        "                data_headmic.append([gender, condition, filepath])"
      ]
    },
    {
      "cell_type": "code",
      "source": [
        "df_data = pd.DataFrame(data_arraymic + data_headmic, columns=['gender', 'condition', 'filepath'])\n",
        "df_data['label'] = df_data['condition'].map({'with_dysarthria': 1, 'without_dysarthria': 0})\n",
        "print(\"Dataframe created with shape:\", df_data.shape)"
      ],
      "metadata": {
        "colab": {
          "base_uri": "https://localhost:8080/"
        },
        "id": "LrtcWu2yXok6",
        "outputId": "362487f8-bebd-4027-e8e8-0021ce8756c8"
      },
      "execution_count": 18,
      "outputs": [
        {
          "output_type": "stream",
          "name": "stdout",
          "text": [
            "Dataframe created with shape: (17633, 4)\n"
          ]
        }
      ]
    },
    {
      "cell_type": "markdown",
      "source": [
        "## Data Patterns"
      ],
      "metadata": {
        "id": "ZcotSSo6v174"
      }
    },
    {
      "cell_type": "code",
      "source": [
        "df_data.head()"
      ],
      "metadata": {
        "colab": {
          "base_uri": "https://localhost:8080/",
          "height": 206
        },
        "id": "HxpaNrh4bldl",
        "outputId": "a327c1d0-890a-4eeb-efb5-8137db17bd38"
      },
      "execution_count": 19,
      "outputs": [
        {
          "output_type": "execute_result",
          "data": {
            "text/plain": [
              "   gender           condition  \\\n",
              "0  female  without_dysarthria   \n",
              "1  female  without_dysarthria   \n",
              "2  female  without_dysarthria   \n",
              "3  female  without_dysarthria   \n",
              "4  female  without_dysarthria   \n",
              "\n",
              "                                            filepath  label  \n",
              "0  /content/drive/MyDrive/Speech project/torgo_da...      0  \n",
              "1  /content/drive/MyDrive/Speech project/torgo_da...      0  \n",
              "2  /content/drive/MyDrive/Speech project/torgo_da...      0  \n",
              "3  /content/drive/MyDrive/Speech project/torgo_da...      0  \n",
              "4  /content/drive/MyDrive/Speech project/torgo_da...      0  "
            ],
            "text/html": [
              "\n",
              "  <div id=\"df-0bc10624-430f-4c51-879d-f65e55148a51\" class=\"colab-df-container\">\n",
              "    <div>\n",
              "<style scoped>\n",
              "    .dataframe tbody tr th:only-of-type {\n",
              "        vertical-align: middle;\n",
              "    }\n",
              "\n",
              "    .dataframe tbody tr th {\n",
              "        vertical-align: top;\n",
              "    }\n",
              "\n",
              "    .dataframe thead th {\n",
              "        text-align: right;\n",
              "    }\n",
              "</style>\n",
              "<table border=\"1\" class=\"dataframe\">\n",
              "  <thead>\n",
              "    <tr style=\"text-align: right;\">\n",
              "      <th></th>\n",
              "      <th>gender</th>\n",
              "      <th>condition</th>\n",
              "      <th>filepath</th>\n",
              "      <th>label</th>\n",
              "    </tr>\n",
              "  </thead>\n",
              "  <tbody>\n",
              "    <tr>\n",
              "      <th>0</th>\n",
              "      <td>female</td>\n",
              "      <td>without_dysarthria</td>\n",
              "      <td>/content/drive/MyDrive/Speech project/torgo_da...</td>\n",
              "      <td>0</td>\n",
              "    </tr>\n",
              "    <tr>\n",
              "      <th>1</th>\n",
              "      <td>female</td>\n",
              "      <td>without_dysarthria</td>\n",
              "      <td>/content/drive/MyDrive/Speech project/torgo_da...</td>\n",
              "      <td>0</td>\n",
              "    </tr>\n",
              "    <tr>\n",
              "      <th>2</th>\n",
              "      <td>female</td>\n",
              "      <td>without_dysarthria</td>\n",
              "      <td>/content/drive/MyDrive/Speech project/torgo_da...</td>\n",
              "      <td>0</td>\n",
              "    </tr>\n",
              "    <tr>\n",
              "      <th>3</th>\n",
              "      <td>female</td>\n",
              "      <td>without_dysarthria</td>\n",
              "      <td>/content/drive/MyDrive/Speech project/torgo_da...</td>\n",
              "      <td>0</td>\n",
              "    </tr>\n",
              "    <tr>\n",
              "      <th>4</th>\n",
              "      <td>female</td>\n",
              "      <td>without_dysarthria</td>\n",
              "      <td>/content/drive/MyDrive/Speech project/torgo_da...</td>\n",
              "      <td>0</td>\n",
              "    </tr>\n",
              "  </tbody>\n",
              "</table>\n",
              "</div>\n",
              "    <div class=\"colab-df-buttons\">\n",
              "\n",
              "  <div class=\"colab-df-container\">\n",
              "    <button class=\"colab-df-convert\" onclick=\"convertToInteractive('df-0bc10624-430f-4c51-879d-f65e55148a51')\"\n",
              "            title=\"Convert this dataframe to an interactive table.\"\n",
              "            style=\"display:none;\">\n",
              "\n",
              "  <svg xmlns=\"http://www.w3.org/2000/svg\" height=\"24px\" viewBox=\"0 -960 960 960\">\n",
              "    <path d=\"M120-120v-720h720v720H120Zm60-500h600v-160H180v160Zm220 220h160v-160H400v160Zm0 220h160v-160H400v160ZM180-400h160v-160H180v160Zm440 0h160v-160H620v160ZM180-180h160v-160H180v160Zm440 0h160v-160H620v160Z\"/>\n",
              "  </svg>\n",
              "    </button>\n",
              "\n",
              "  <style>\n",
              "    .colab-df-container {\n",
              "      display:flex;\n",
              "      gap: 12px;\n",
              "    }\n",
              "\n",
              "    .colab-df-convert {\n",
              "      background-color: #E8F0FE;\n",
              "      border: none;\n",
              "      border-radius: 50%;\n",
              "      cursor: pointer;\n",
              "      display: none;\n",
              "      fill: #1967D2;\n",
              "      height: 32px;\n",
              "      padding: 0 0 0 0;\n",
              "      width: 32px;\n",
              "    }\n",
              "\n",
              "    .colab-df-convert:hover {\n",
              "      background-color: #E2EBFA;\n",
              "      box-shadow: 0px 1px 2px rgba(60, 64, 67, 0.3), 0px 1px 3px 1px rgba(60, 64, 67, 0.15);\n",
              "      fill: #174EA6;\n",
              "    }\n",
              "\n",
              "    .colab-df-buttons div {\n",
              "      margin-bottom: 4px;\n",
              "    }\n",
              "\n",
              "    [theme=dark] .colab-df-convert {\n",
              "      background-color: #3B4455;\n",
              "      fill: #D2E3FC;\n",
              "    }\n",
              "\n",
              "    [theme=dark] .colab-df-convert:hover {\n",
              "      background-color: #434B5C;\n",
              "      box-shadow: 0px 1px 3px 1px rgba(0, 0, 0, 0.15);\n",
              "      filter: drop-shadow(0px 1px 2px rgba(0, 0, 0, 0.3));\n",
              "      fill: #FFFFFF;\n",
              "    }\n",
              "  </style>\n",
              "\n",
              "    <script>\n",
              "      const buttonEl =\n",
              "        document.querySelector('#df-0bc10624-430f-4c51-879d-f65e55148a51 button.colab-df-convert');\n",
              "      buttonEl.style.display =\n",
              "        google.colab.kernel.accessAllowed ? 'block' : 'none';\n",
              "\n",
              "      async function convertToInteractive(key) {\n",
              "        const element = document.querySelector('#df-0bc10624-430f-4c51-879d-f65e55148a51');\n",
              "        const dataTable =\n",
              "          await google.colab.kernel.invokeFunction('convertToInteractive',\n",
              "                                                    [key], {});\n",
              "        if (!dataTable) return;\n",
              "\n",
              "        const docLinkHtml = 'Like what you see? Visit the ' +\n",
              "          '<a target=\"_blank\" href=https://colab.research.google.com/notebooks/data_table.ipynb>data table notebook</a>'\n",
              "          + ' to learn more about interactive tables.';\n",
              "        element.innerHTML = '';\n",
              "        dataTable['output_type'] = 'display_data';\n",
              "        await google.colab.output.renderOutput(dataTable, element);\n",
              "        const docLink = document.createElement('div');\n",
              "        docLink.innerHTML = docLinkHtml;\n",
              "        element.appendChild(docLink);\n",
              "      }\n",
              "    </script>\n",
              "  </div>\n",
              "\n",
              "\n",
              "<div id=\"df-53980259-7fc9-4f7b-800d-fdb4712fa0d0\">\n",
              "  <button class=\"colab-df-quickchart\" onclick=\"quickchart('df-53980259-7fc9-4f7b-800d-fdb4712fa0d0')\"\n",
              "            title=\"Suggest charts\"\n",
              "            style=\"display:none;\">\n",
              "\n",
              "<svg xmlns=\"http://www.w3.org/2000/svg\" height=\"24px\"viewBox=\"0 0 24 24\"\n",
              "     width=\"24px\">\n",
              "    <g>\n",
              "        <path d=\"M19 3H5c-1.1 0-2 .9-2 2v14c0 1.1.9 2 2 2h14c1.1 0 2-.9 2-2V5c0-1.1-.9-2-2-2zM9 17H7v-7h2v7zm4 0h-2V7h2v10zm4 0h-2v-4h2v4z\"/>\n",
              "    </g>\n",
              "</svg>\n",
              "  </button>\n",
              "\n",
              "<style>\n",
              "  .colab-df-quickchart {\n",
              "      --bg-color: #E8F0FE;\n",
              "      --fill-color: #1967D2;\n",
              "      --hover-bg-color: #E2EBFA;\n",
              "      --hover-fill-color: #174EA6;\n",
              "      --disabled-fill-color: #AAA;\n",
              "      --disabled-bg-color: #DDD;\n",
              "  }\n",
              "\n",
              "  [theme=dark] .colab-df-quickchart {\n",
              "      --bg-color: #3B4455;\n",
              "      --fill-color: #D2E3FC;\n",
              "      --hover-bg-color: #434B5C;\n",
              "      --hover-fill-color: #FFFFFF;\n",
              "      --disabled-bg-color: #3B4455;\n",
              "      --disabled-fill-color: #666;\n",
              "  }\n",
              "\n",
              "  .colab-df-quickchart {\n",
              "    background-color: var(--bg-color);\n",
              "    border: none;\n",
              "    border-radius: 50%;\n",
              "    cursor: pointer;\n",
              "    display: none;\n",
              "    fill: var(--fill-color);\n",
              "    height: 32px;\n",
              "    padding: 0;\n",
              "    width: 32px;\n",
              "  }\n",
              "\n",
              "  .colab-df-quickchart:hover {\n",
              "    background-color: var(--hover-bg-color);\n",
              "    box-shadow: 0 1px 2px rgba(60, 64, 67, 0.3), 0 1px 3px 1px rgba(60, 64, 67, 0.15);\n",
              "    fill: var(--button-hover-fill-color);\n",
              "  }\n",
              "\n",
              "  .colab-df-quickchart-complete:disabled,\n",
              "  .colab-df-quickchart-complete:disabled:hover {\n",
              "    background-color: var(--disabled-bg-color);\n",
              "    fill: var(--disabled-fill-color);\n",
              "    box-shadow: none;\n",
              "  }\n",
              "\n",
              "  .colab-df-spinner {\n",
              "    border: 2px solid var(--fill-color);\n",
              "    border-color: transparent;\n",
              "    border-bottom-color: var(--fill-color);\n",
              "    animation:\n",
              "      spin 1s steps(1) infinite;\n",
              "  }\n",
              "\n",
              "  @keyframes spin {\n",
              "    0% {\n",
              "      border-color: transparent;\n",
              "      border-bottom-color: var(--fill-color);\n",
              "      border-left-color: var(--fill-color);\n",
              "    }\n",
              "    20% {\n",
              "      border-color: transparent;\n",
              "      border-left-color: var(--fill-color);\n",
              "      border-top-color: var(--fill-color);\n",
              "    }\n",
              "    30% {\n",
              "      border-color: transparent;\n",
              "      border-left-color: var(--fill-color);\n",
              "      border-top-color: var(--fill-color);\n",
              "      border-right-color: var(--fill-color);\n",
              "    }\n",
              "    40% {\n",
              "      border-color: transparent;\n",
              "      border-right-color: var(--fill-color);\n",
              "      border-top-color: var(--fill-color);\n",
              "    }\n",
              "    60% {\n",
              "      border-color: transparent;\n",
              "      border-right-color: var(--fill-color);\n",
              "    }\n",
              "    80% {\n",
              "      border-color: transparent;\n",
              "      border-right-color: var(--fill-color);\n",
              "      border-bottom-color: var(--fill-color);\n",
              "    }\n",
              "    90% {\n",
              "      border-color: transparent;\n",
              "      border-bottom-color: var(--fill-color);\n",
              "    }\n",
              "  }\n",
              "</style>\n",
              "\n",
              "  <script>\n",
              "    async function quickchart(key) {\n",
              "      const quickchartButtonEl =\n",
              "        document.querySelector('#' + key + ' button');\n",
              "      quickchartButtonEl.disabled = true;  // To prevent multiple clicks.\n",
              "      quickchartButtonEl.classList.add('colab-df-spinner');\n",
              "      try {\n",
              "        const charts = await google.colab.kernel.invokeFunction(\n",
              "            'suggestCharts', [key], {});\n",
              "      } catch (error) {\n",
              "        console.error('Error during call to suggestCharts:', error);\n",
              "      }\n",
              "      quickchartButtonEl.classList.remove('colab-df-spinner');\n",
              "      quickchartButtonEl.classList.add('colab-df-quickchart-complete');\n",
              "    }\n",
              "    (() => {\n",
              "      let quickchartButtonEl =\n",
              "        document.querySelector('#df-53980259-7fc9-4f7b-800d-fdb4712fa0d0 button');\n",
              "      quickchartButtonEl.style.display =\n",
              "        google.colab.kernel.accessAllowed ? 'block' : 'none';\n",
              "    })();\n",
              "  </script>\n",
              "</div>\n",
              "\n",
              "    </div>\n",
              "  </div>\n"
            ],
            "application/vnd.google.colaboratory.intrinsic+json": {
              "type": "dataframe",
              "variable_name": "df_data",
              "summary": "{\n  \"name\": \"df_data\",\n  \"rows\": 17633,\n  \"fields\": [\n    {\n      \"column\": \"gender\",\n      \"properties\": {\n        \"dtype\": \"category\",\n        \"num_unique_values\": 2,\n        \"samples\": [\n          \"male\",\n          \"female\"\n        ],\n        \"semantic_type\": \"\",\n        \"description\": \"\"\n      }\n    },\n    {\n      \"column\": \"condition\",\n      \"properties\": {\n        \"dtype\": \"category\",\n        \"num_unique_values\": 2,\n        \"samples\": [\n          \"with_dysarthria\",\n          \"without_dysarthria\"\n        ],\n        \"semantic_type\": \"\",\n        \"description\": \"\"\n      }\n    },\n    {\n      \"column\": \"filepath\",\n      \"properties\": {\n        \"dtype\": \"string\",\n        \"num_unique_values\": 17633,\n        \"samples\": [\n          \"/content/drive/MyDrive/Speech project/torgo_dataset/M_Con/wav_arrayMic_MC04S02/wav_arrayMic_MC04S02_0679.wav\",\n          \"/content/drive/MyDrive/Speech project/torgo_dataset/M_Con/wav_arrayMic_MC03S01/wav_arrayMic_MC03S01_0043.wav\"\n        ],\n        \"semantic_type\": \"\",\n        \"description\": \"\"\n      }\n    },\n    {\n      \"column\": \"label\",\n      \"properties\": {\n        \"dtype\": \"number\",\n        \"std\": 0,\n        \"min\": 0,\n        \"max\": 1,\n        \"num_unique_values\": 2,\n        \"samples\": [\n          1,\n          0\n        ],\n        \"semantic_type\": \"\",\n        \"description\": \"\"\n      }\n    }\n  ]\n}"
            }
          },
          "metadata": {},
          "execution_count": 19
        }
      ]
    },
    {
      "cell_type": "code",
      "source": [
        "df_data['condition'].value_counts(normalize=True)"
      ],
      "metadata": {
        "colab": {
          "base_uri": "https://localhost:8080/",
          "height": 178
        },
        "id": "MWtINC0cdYpJ",
        "outputId": "1b33e13a-ec72-4a3e-c405-f0598480acd8"
      },
      "execution_count": 20,
      "outputs": [
        {
          "output_type": "execute_result",
          "data": {
            "text/plain": [
              "condition\n",
              "without_dysarthria    0.649634\n",
              "with_dysarthria       0.350366\n",
              "Name: proportion, dtype: float64"
            ],
            "text/html": [
              "<div>\n",
              "<style scoped>\n",
              "    .dataframe tbody tr th:only-of-type {\n",
              "        vertical-align: middle;\n",
              "    }\n",
              "\n",
              "    .dataframe tbody tr th {\n",
              "        vertical-align: top;\n",
              "    }\n",
              "\n",
              "    .dataframe thead th {\n",
              "        text-align: right;\n",
              "    }\n",
              "</style>\n",
              "<table border=\"1\" class=\"dataframe\">\n",
              "  <thead>\n",
              "    <tr style=\"text-align: right;\">\n",
              "      <th></th>\n",
              "      <th>proportion</th>\n",
              "    </tr>\n",
              "    <tr>\n",
              "      <th>condition</th>\n",
              "      <th></th>\n",
              "    </tr>\n",
              "  </thead>\n",
              "  <tbody>\n",
              "    <tr>\n",
              "      <th>without_dysarthria</th>\n",
              "      <td>0.649634</td>\n",
              "    </tr>\n",
              "    <tr>\n",
              "      <th>with_dysarthria</th>\n",
              "      <td>0.350366</td>\n",
              "    </tr>\n",
              "  </tbody>\n",
              "</table>\n",
              "</div><br><label><b>dtype:</b> float64</label>"
            ]
          },
          "metadata": {},
          "execution_count": 20
        }
      ]
    },
    {
      "cell_type": "code",
      "source": [
        "labels = ['No Dysarthria', 'Dysarthria']\n",
        "values = [\n",
        "    df_data[df_data['label'] == 0].shape[0],  # Count of 'without_dysarthria'\n",
        "    df_data[df_data['label'] == 1].shape[0]   # Count of 'with_dysarthria'\n",
        "]\n",
        "\n",
        "\n",
        "percentages = [value / sum(values) * 100 for value in values]\n",
        "\n",
        "\n",
        "fig, ax = plt.subplots()\n",
        "wedges, texts, autotexts = ax.pie(\n",
        "    values,\n",
        "    labels=labels,\n",
        "    autopct=lambda p: f'{p:.1f}%\\n({int(p * sum(values) / 100)})',\n",
        "    startangle=90,\n",
        "    wedgeprops=dict(width=0.4)\n",
        ")\n",
        "\n",
        "\n",
        "plt.setp(autotexts, size=10, weight=\"bold\")\n",
        "ax.set_title(\"Distribution of Dysarthria and Non-Dysarthria\")\n",
        "\n",
        "# Display the chart\n",
        "plt.show()"
      ],
      "metadata": {
        "colab": {
          "base_uri": "https://localhost:8080/",
          "height": 428
        },
        "id": "9xFgF4Avm3Ix",
        "outputId": "d708421c-5258-4d82-8a80-411217f57b17"
      },
      "execution_count": 135,
      "outputs": [
        {
          "output_type": "display_data",
          "data": {
            "text/plain": [
              "<Figure size 640x480 with 1 Axes>"
            ],
            "image/png": "[encoded data removed]"
          },
          "metadata": {}
        }
      ]
    },
    {
      "cell_type": "code",
      "source": [
        "# Data for the donut chart\n",
        "gender_counts = df_data['gender'].value_counts()\n",
        "gender_labels = gender_counts.index\n",
        "gender_values = gender_counts.values\n",
        "\n",
        "# Calculate percentages\n",
        "gender_percentages = gender_values / gender_values.sum() * 100\n",
        "labels_with_info = [f\"{label} ({count}, {percent:.1f}%)\" for label, count, percent in zip(gender_labels, gender_values, gender_percentages)]\n",
        "\n",
        "# Donut chart\n",
        "plt.figure(figsize=(5, 6))\n",
        "plt.pie(gender_values, labels=labels_with_info, autopct='%1.1f%%', startangle=90, wedgeprops={'width': 0.4})\n",
        "plt.title(\"Gender Distribution (Count and Percentage)\")\n",
        "plt.show()\n"
      ],
      "metadata": {
        "colab": {
          "base_uri": "https://localhost:8080/",
          "height": 446
        },
        "id": "kLg5nQKo0nA_",
        "outputId": "7181406f-5648-46eb-c0f5-ea67cde5a23b"
      },
      "execution_count": 136,
      "outputs": [
        {
          "output_type": "display_data",
          "data": {
            "text/plain": [
              "<Figure size 500x600 with 1 Axes>"
            ],
            "image/png": "[encoded data removed]"
          },
          "metadata": {}
        }
      ]
    },
    {
      "cell_type": "code",
      "source": [
        "# Filter data for rows with dysarthria\n",
        "dysarthria_data = df_data[df_data['condition'] == 'dysarthria']\n",
        "\n",
        "# Count the number of males and females with dysarthria\n",
        "gender_dysarthria_counts = dysarthria_data['gender'].value_counts()\n",
        "gender_labels = gender_dysarthria_counts.index\n",
        "gender_values = gender_dysarthria_counts.values\n",
        "\n",
        "# Calculate percentages\n",
        "gender_percentages = gender_values / gender_values.sum() * 100\n",
        "labels_with_info = [f\"{label} ({count}, {percent:.1f}%)\" for label, count, percent in zip(gender_labels, gender_values, gender_percentages)]\n",
        "\n",
        "# Donut chart\n",
        "plt.figure(figsize=(5, 5))\n",
        "plt.pie(gender_values, labels=labels_with_info, autopct='%1.1f%%', startangle=90, wedgeprops={'width': 0.4})\n",
        "plt.title(\"Gender Split for Dysarthria\")\n",
        "plt.show()\n"
      ],
      "metadata": {
        "colab": {
          "base_uri": "https://localhost:8080/",
          "height": 444
        },
        "id": "fs3OEbUHeMr4",
        "outputId": "27dedf71-6f66-4b7a-e2e5-acad5baff08f"
      },
      "execution_count": 23,
      "outputs": [
        {
          "output_type": "display_data",
          "data": {
            "text/plain": [
              "<Figure size 500x500 with 1 Axes>"
            ],
            "image/png": "[encoded data removed]"
          },
          "metadata": {}
        }
      ]
    },
    {
      "cell_type": "code",
      "source": [
        "# Group data by gender and condition\n",
        "gender_condition_counts = df_data.groupby(['gender', 'condition']).size()\n",
        "\n",
        "# Data for females\n",
        "female_counts = gender_condition_counts['female']\n",
        "female_labels = female_counts.index\n",
        "female_values = female_counts.values\n",
        "\n",
        "# Calculate percentages for females\n",
        "female_percentages = female_values / female_values.sum() * 100\n",
        "female_labels_with_info = [f\"{label} ({count}, {percent:.1f}%)\" for label, count, percent in zip(female_labels, female_values, female_percentages)]\n",
        "\n",
        "# Data for males\n",
        "male_counts = gender_condition_counts['male']\n",
        "male_labels = male_counts.index\n",
        "male_values = male_counts.values\n",
        "\n",
        "# Calculate percentages for males\n",
        "male_percentages = male_values / male_values.sum() * 100\n",
        "male_labels_with_info = [f\"{label} ({count}, {percent:.1f}%)\" for label, count, percent in zip(male_labels, male_values, male_percentages)]\n",
        "\n",
        "# Plot side-by-side donut charts\n",
        "fig, axes = plt.subplots(1, 2, figsize=(16, 8))\n",
        "\n",
        "# Female donut chart\n",
        "axes[0].pie(female_values, labels=female_labels_with_info, autopct='%1.1f%%', startangle=90, wedgeprops={'width': 0.4})\n",
        "axes[0].set_title(\"Female: Dysarthria vs No Dysarthria\")\n",
        "\n",
        "# Male donut chart\n",
        "axes[1].pie(male_values, labels=male_labels_with_info, autopct='%1.1f%%', startangle=90, wedgeprops={'width': 0.4})\n",
        "axes[1].set_title(\"Male: Dysarthria vs No Dysarthria\")\n",
        "\n",
        "# Show the plots\n",
        "plt.tight_layout()\n",
        "plt.show()\n"
      ],
      "metadata": {
        "colab": {
          "base_uri": "https://localhost:8080/",
          "height": 340
        },
        "id": "XD1XqJ8TLcx5",
        "outputId": "e9cf69d4-6f8b-49c6-ec3e-6922d947ccb7"
      },
      "execution_count": 137,
      "outputs": [
        {
          "output_type": "display_data",
          "data": {
            "text/plain": [
              "<Figure size 1600x800 with 2 Axes>"
            ],
            "image/png": "[encoded data removed]"
          },
          "metadata": {}
        }
      ]
    },
    {
      "cell_type": "markdown",
      "source": [
        "## Feature Engineering - Extracting MFCC"
      ],
      "metadata": {
        "id": "6S7M35D-wizW"
      }
    },
    {
      "cell_type": "code",
      "source": [
        "# Feature Engineering with Padding for Short Files and Error Tracking\n",
        "error_count = 0\n",
        "short_count = 0\n",
        "total_files = len(df_data)  # Total number of audio files\n",
        "\n",
        "def extract_mfcc(filepath, sr=22050, n_mfcc=13, target_length=2048):\n",
        "    \"\"\"\n",
        "    Extract MFCC features from an audio file with padding for short files.\n",
        "    \"\"\"\n",
        "    global error_count  # Global error count\n",
        "    global short_count  # Global short file count\n",
        "    try:\n",
        "        # Load the audio file\n",
        "        audio, _ = librosa.load(filepath, sr=sr)\n",
        "\n",
        "        # Pad the audio to ensure the minimum required length\n",
        "        if len(audio) < target_length:\n",
        "            short_count += 1  # Increment the short file count\n",
        "            padding = target_length - len(audio)\n",
        "            audio = np.pad(audio, (0, padding), mode='constant')\n",
        "\n",
        "        # Compute MFCCs\n",
        "        mfccs = librosa.feature.mfcc(y=audio, sr=sr, n_mfcc=n_mfcc, n_fft=target_length)\n",
        "        return np.mean(mfccs, axis=1)  # Mean MFCC values\n",
        "\n",
        "    except Exception as e:\n",
        "        # Increment the error count and log the error\n",
        "        error_count += 1\n",
        "        print(f\"Error extracting MFCCs from {filepath}: {e}\")\n",
        "        return None\n"
      ],
      "metadata": {
        "id": "WP8L_tc-LOAV"
      },
      "execution_count": 25,
      "outputs": []
    },
    {
      "cell_type": "code",
      "source": [
        "print(\"Extracting MFCC features...\")\n",
        "df_data['features'] = df_data['filepath'].apply(lambda x: extract_mfcc(x))"
      ],
      "metadata": {
        "colab": {
          "base_uri": "https://localhost:8080/"
        },
        "id": "ZbYD5jBvYGJB",
        "outputId": "22b74d7f-26bf-4682-d479-ae6453623672"
      },
      "execution_count": 26,
      "outputs": [
        {
          "output_type": "stream",
          "name": "stdout",
          "text": [
            "Extracting MFCC features...\n"
          ]
        },
        {
          "output_type": "stream",
          "name": "stderr",
          "text": [
            "<ipython-input-25-85db741c0a47>:14: UserWarning: PySoundFile failed. Trying audioread instead.\n",
            "  audio, _ = librosa.load(filepath, sr=sr)\n",
            "/usr/local/lib/python3.10/dist-packages/librosa/core/audio.py:184: FutureWarning: librosa.core.audio.__audioread_load\n",
            "\tDeprecated as of librosa version 0.10.0.\n",
            "\tIt will be removed in librosa version 1.0.\n",
            "  y, sr_native = __audioread_load(path, offset, duration, dtype)\n"
          ]
        },
        {
          "output_type": "stream",
          "name": "stdout",
          "text": [
            "Error extracting MFCCs from /content/drive/MyDrive/Speech project/torgo_dataset/F_Dys/wav_headMic_F01/wav_headMic_F01_0067.wav: \n",
            "Error extracting MFCCs from /content/drive/MyDrive/Speech project/torgo_dataset/F_Dys/wav_headMic_F01/wav_headMic_F01_0068.wav: \n"
          ]
        }
      ]
    },
    {
      "cell_type": "code",
      "source": [
        "# Report errors\n",
        "print(f\"\\nTotal files processed: {total_files}\")\n",
        "print(f\"Total files with errors: {error_count}\")\n",
        "print(f\"Percentage of errors: {100 * error_count / total_files:.2f}%\")"
      ],
      "metadata": {
        "colab": {
          "base_uri": "https://localhost:8080/"
        },
        "id": "6NKKuJnnGBuj",
        "outputId": "17c1e527-13b3-4bee-c8b7-b0c626486d2d"
      },
      "execution_count": 27,
      "outputs": [
        {
          "output_type": "stream",
          "name": "stdout",
          "text": [
            "\n",
            "Total files processed: 17633\n",
            "Total files with errors: 2\n",
            "Percentage of errors: 0.01%\n"
          ]
        }
      ]
    },
    {
      "cell_type": "code",
      "source": [
        "# Count rows with incorrect and correct feature sizes\n",
        "incorrect_size_count = df_data['features'].apply(lambda x: x is None or len(x) != 13).sum()\n",
        "correct_size_count = df_data['features'].apply(lambda x: x is not None and len(x) == 13).sum()\n",
        "\n",
        "# Print counts\n",
        "print(f\"Total rows in dataset: {len(df_data)}\")\n",
        "print(f\"Rows with correct feature size: {correct_size_count}\")\n",
        "print(f\"Rows with incorrect feature size: {incorrect_size_count}\")\n",
        "\n",
        "# Filter out rows with incorrect feature size\n",
        "df_data = df_data[df_data['features'].apply(lambda x: x is not None and len(x) == 13)]\n",
        "\n",
        "# Print the size of the dataset after filtering\n",
        "print(f\"Dataset size after filtering: {len(df_data)}\")"
      ],
      "metadata": {
        "colab": {
          "base_uri": "https://localhost:8080/"
        },
        "id": "LD0r37lYGNjE",
        "outputId": "18aaa6d9-d273-4dab-9610-5c1032c9baa8"
      },
      "execution_count": 28,
      "outputs": [
        {
          "output_type": "stream",
          "name": "stdout",
          "text": [
            "Total rows in dataset: 17633\n",
            "Rows with correct feature size: 17631\n",
            "Rows with incorrect feature size: 2\n",
            "Dataset size after filtering: 17631\n"
          ]
        }
      ]
    },
    {
      "cell_type": "code",
      "source": [
        "# Copy of the original DataFrame to avoid overwriting\n",
        "df_transformed = df_data.copy()\n",
        "\n",
        "# Expand the 'features' column into separate columns named M1 to M13\n",
        "mfcc_columns = [f'M{i+1}' for i in range(13)]  # Generate column names M1 to M13\n",
        "mfcc_expanded = pd.DataFrame(df_transformed['features'].tolist(), columns=mfcc_columns)\n",
        "\n",
        "# 0 for male and 1 for female\n",
        "df_transformed['gender_mapped'] = df_transformed['gender'].map({'male': 0, 'female': 1}).astype(int)\n",
        "\n",
        "# Combine the expanded MFCC columns with the original DataFrame\n",
        "df_transformed = pd.concat([df_transformed, mfcc_expanded], axis=1)"
      ],
      "metadata": {
        "id": "cnIT09GbtvEi"
      },
      "execution_count": 35,
      "outputs": []
    },
    {
      "cell_type": "code",
      "source": [
        "df_transformed.head()"
      ],
      "metadata": {
        "colab": {
          "base_uri": "https://localhost:8080/",
          "height": 521
        },
        "id": "XlAsrpJZtvHF",
        "outputId": "3099a2c6-e6b4-496d-b716-c247c7a79154"
      },
      "execution_count": 36,
      "outputs": [
        {
          "output_type": "execute_result",
          "data": {
            "text/plain": [
              "   gender           condition  \\\n",
              "0  female  without_dysarthria   \n",
              "1  female  without_dysarthria   \n",
              "2  female  without_dysarthria   \n",
              "3  female  without_dysarthria   \n",
              "4  female  without_dysarthria   \n",
              "\n",
              "                                            filepath  label  \\\n",
              "0  /content/drive/MyDrive/Speech project/torgo_da...    0.0   \n",
              "1  /content/drive/MyDrive/Speech project/torgo_da...    0.0   \n",
              "2  /content/drive/MyDrive/Speech project/torgo_da...    0.0   \n",
              "3  /content/drive/MyDrive/Speech project/torgo_da...    0.0   \n",
              "4  /content/drive/MyDrive/Speech project/torgo_da...    0.0   \n",
              "\n",
              "                                            features  gender_mapped  \\\n",
              "0  [-358.84335, 71.04295, -32.117542, 42.714172, ...            1.0   \n",
              "1  [-343.88675, 82.971405, -40.797176, 39.157413,...            1.0   \n",
              "2  [-462.88156, 46.607544, -27.719397, 63.342495,...            1.0   \n",
              "3  [-332.15466, 102.166664, -25.712492, 50.536175...            1.0   \n",
              "4  [-422.30457, 49.9119, -27.106886, 43.812088, -...            1.0   \n",
              "\n",
              "           M1          M2         M3         M4         M5         M6  \\\n",
              "0 -358.843353   71.042953 -32.117542  42.714172 -17.732943  25.136646   \n",
              "1 -343.886749   82.971405 -40.797176  39.157413 -14.799722  25.428030   \n",
              "2 -462.881561   46.607544 -27.719397  63.342495 -48.534657  52.226501   \n",
              "3 -332.154663  102.166664 -25.712492  50.536175 -11.837389  34.544975   \n",
              "4 -422.304565   49.911900 -27.106886  43.812088 -34.403488  41.976273   \n",
              "\n",
              "          M7         M8         M9       M10       M11       M12        M13  \n",
              "0 -36.299854  22.689983 -22.859261 -7.145495  0.720612 -8.173335  -4.656964  \n",
              "1 -43.460384  24.068468 -19.959249 -8.992933 -1.912487 -8.741645  -5.621877  \n",
              "2 -42.370602  35.662411 -14.626758  8.518962 -2.678352 -0.215523  14.844447  \n",
              "3 -33.452698  26.458591 -19.854198 -1.522977  4.753811 -6.369249  -4.985842  \n",
              "4 -41.110710  21.874905 -15.505911  4.716015 -0.770872 -1.581828  10.786043  "
            ],
            "text/html": [
              "\n",
              "  <div id=\"df-c8f8d4d4-3452-431f-a46b-af62f6c05b3a\" class=\"colab-df-container\">\n",
              "    <div>\n",
              "<style scoped>\n",
              "    .dataframe tbody tr th:only-of-type {\n",
              "        vertical-align: middle;\n",
              "    }\n",
              "\n",
              "    .dataframe tbody tr th {\n",
              "        vertical-align: top;\n",
              "    }\n",
              "\n",
              "    .dataframe thead th {\n",
              "        text-align: right;\n",
              "    }\n",
              "</style>\n",
              "<table border=\"1\" class=\"dataframe\">\n",
              "  <thead>\n",
              "    <tr style=\"text-align: right;\">\n",
              "      <th></th>\n",
              "      <th>gender</th>\n",
              "      <th>condition</th>\n",
              "      <th>filepath</th>\n",
              "      <th>label</th>\n",
              "      <th>features</th>\n",
              "      <th>gender_mapped</th>\n",
              "      <th>M1</th>\n",
              "      <th>M2</th>\n",
              "      <th>M3</th>\n",
              "      <th>M4</th>\n",
              "      <th>M5</th>\n",
              "      <th>M6</th>\n",
              "      <th>M7</th>\n",
              "      <th>M8</th>\n",
              "      <th>M9</th>\n",
              "      <th>M10</th>\n",
              "      <th>M11</th>\n",
              "      <th>M12</th>\n",
              "      <th>M13</th>\n",
              "    </tr>\n",
              "  </thead>\n",
              "  <tbody>\n",
              "    <tr>\n",
              "      <th>0</th>\n",
              "      <td>female</td>\n",
              "      <td>without_dysarthria</td>\n",
              "      <td>/content/drive/MyDrive/Speech project/torgo_da...</td>\n",
              "      <td>0.0</td>\n",
              "      <td>[-358.84335, 71.04295, -32.117542, 42.714172, ...</td>\n",
              "      <td>1.0</td>\n",
              "      <td>-358.843353</td>\n",
              "      <td>71.042953</td>\n",
              "      <td>-32.117542</td>\n",
              "      <td>42.714172</td>\n",
              "      <td>-17.732943</td>\n",
              "      <td>25.136646</td>\n",
              "      <td>-36.299854</td>\n",
              "      <td>22.689983</td>\n",
              "      <td>-22.859261</td>\n",
              "      <td>-7.145495</td>\n",
              "      <td>0.720612</td>\n",
              "      <td>-8.173335</td>\n",
              "      <td>-4.656964</td>\n",
              "    </tr>\n",
              "    <tr>\n",
              "      <th>1</th>\n",
              "      <td>female</td>\n",
              "      <td>without_dysarthria</td>\n",
              "      <td>/content/drive/MyDrive/Speech project/torgo_da...</td>\n",
              "      <td>0.0</td>\n",
              "      <td>[-343.88675, 82.971405, -40.797176, 39.157413,...</td>\n",
              "      <td>1.0</td>\n",
              "      <td>-343.886749</td>\n",
              "      <td>82.971405</td>\n",
              "      <td>-40.797176</td>\n",
              "      <td>39.157413</td>\n",
              "      <td>-14.799722</td>\n",
              "      <td>25.428030</td>\n",
              "      <td>-43.460384</td>\n",
              "      <td>24.068468</td>\n",
              "      <td>-19.959249</td>\n",
              "      <td>-8.992933</td>\n",
              "      <td>-1.912487</td>\n",
              "      <td>-8.741645</td>\n",
              "      <td>-5.621877</td>\n",
              "    </tr>\n",
              "    <tr>\n",
              "      <th>2</th>\n",
              "      <td>female</td>\n",
              "      <td>without_dysarthria</td>\n",
              "      <td>/content/drive/MyDrive/Speech project/torgo_da...</td>\n",
              "      <td>0.0</td>\n",
              "      <td>[-462.88156, 46.607544, -27.719397, 63.342495,...</td>\n",
              "      <td>1.0</td>\n",
              "      <td>-462.881561</td>\n",
              "      <td>46.607544</td>\n",
              "      <td>-27.719397</td>\n",
              "      <td>63.342495</td>\n",
              "      <td>-48.534657</td>\n",
              "      <td>52.226501</td>\n",
              "      <td>-42.370602</td>\n",
              "      <td>35.662411</td>\n",
              "      <td>-14.626758</td>\n",
              "      <td>8.518962</td>\n",
              "      <td>-2.678352</td>\n",
              "      <td>-0.215523</td>\n",
              "      <td>14.844447</td>\n",
              "    </tr>\n",
              "    <tr>\n",
              "      <th>3</th>\n",
              "      <td>female</td>\n",
              "      <td>without_dysarthria</td>\n",
              "      <td>/content/drive/MyDrive/Speech project/torgo_da...</td>\n",
              "      <td>0.0</td>\n",
              "      <td>[-332.15466, 102.166664, -25.712492, 50.536175...</td>\n",
              "      <td>1.0</td>\n",
              "      <td>-332.154663</td>\n",
              "      <td>102.166664</td>\n",
              "      <td>-25.712492</td>\n",
              "      <td>50.536175</td>\n",
              "      <td>-11.837389</td>\n",
              "      <td>34.544975</td>\n",
              "      <td>-33.452698</td>\n",
              "      <td>26.458591</td>\n",
              "      <td>-19.854198</td>\n",
              "      <td>-1.522977</td>\n",
              "      <td>4.753811</td>\n",
              "      <td>-6.369249</td>\n",
              "      <td>-4.985842</td>\n",
              "    </tr>\n",
              "    <tr>\n",
              "      <th>4</th>\n",
              "      <td>female</td>\n",
              "      <td>without_dysarthria</td>\n",
              "      <td>/content/drive/MyDrive/Speech project/torgo_da...</td>\n",
              "      <td>0.0</td>\n",
              "      <td>[-422.30457, 49.9119, -27.106886, 43.812088, -...</td>\n",
              "      <td>1.0</td>\n",
              "      <td>-422.304565</td>\n",
              "      <td>49.911900</td>\n",
              "      <td>-27.106886</td>\n",
              "      <td>43.812088</td>\n",
              "      <td>-34.403488</td>\n",
              "      <td>41.976273</td>\n",
              "      <td>-41.110710</td>\n",
              "      <td>21.874905</td>\n",
              "      <td>-15.505911</td>\n",
              "      <td>4.716015</td>\n",
              "      <td>-0.770872</td>\n",
              "      <td>-1.581828</td>\n",
              "      <td>10.786043</td>\n",
              "    </tr>\n",
              "  </tbody>\n",
              "</table>\n",
              "</div>\n",
              "    <div class=\"colab-df-buttons\">\n",
              "\n",
              "  <div class=\"colab-df-container\">\n",
              "    <button class=\"colab-df-convert\" onclick=\"convertToInteractive('df-c8f8d4d4-3452-431f-a46b-af62f6c05b3a')\"\n",
              "            title=\"Convert this dataframe to an interactive table.\"\n",
              "            style=\"display:none;\">\n",
              "\n",
              "  <svg xmlns=\"http://www.w3.org/2000/svg\" height=\"24px\" viewBox=\"0 -960 960 960\">\n",
              "    <path d=\"M120-120v-720h720v720H120Zm60-500h600v-160H180v160Zm220 220h160v-160H400v160Zm0 220h160v-160H400v160ZM180-400h160v-160H180v160Zm440 0h160v-160H620v160ZM180-180h160v-160H180v160Zm440 0h160v-160H620v160Z\"/>\n",
              "  </svg>\n",
              "    </button>\n",
              "\n",
              "  <style>\n",
              "    .colab-df-container {\n",
              "      display:flex;\n",
              "      gap: 12px;\n",
              "    }\n",
              "\n",
              "    .colab-df-convert {\n",
              "      background-color: #E8F0FE;\n",
              "      border: none;\n",
              "      border-radius: 50%;\n",
              "      cursor: pointer;\n",
              "      display: none;\n",
              "      fill: #1967D2;\n",
              "      height: 32px;\n",
              "      padding: 0 0 0 0;\n",
              "      width: 32px;\n",
              "    }\n",
              "\n",
              "    .colab-df-convert:hover {\n",
              "      background-color: #E2EBFA;\n",
              "      box-shadow: 0px 1px 2px rgba(60, 64, 67, 0.3), 0px 1px 3px 1px rgba(60, 64, 67, 0.15);\n",
              "      fill: #174EA6;\n",
              "    }\n",
              "\n",
              "    .colab-df-buttons div {\n",
              "      margin-bottom: 4px;\n",
              "    }\n",
              "\n",
              "    [theme=dark] .colab-df-convert {\n",
              "      background-color: #3B4455;\n",
              "      fill: #D2E3FC;\n",
              "    }\n",
              "\n",
              "    [theme=dark] .colab-df-convert:hover {\n",
              "      background-color: #434B5C;\n",
              "      box-shadow: 0px 1px 3px 1px rgba(0, 0, 0, 0.15);\n",
              "      filter: drop-shadow(0px 1px 2px rgba(0, 0, 0, 0.3));\n",
              "      fill: #FFFFFF;\n",
              "    }\n",
              "  </style>\n",
              "\n",
              "    <script>\n",
              "      const buttonEl =\n",
              "        document.querySelector('#df-c8f8d4d4-3452-431f-a46b-af62f6c05b3a button.colab-df-convert');\n",
              "      buttonEl.style.display =\n",
              "        google.colab.kernel.accessAllowed ? 'block' : 'none';\n",
              "\n",
              "      async function convertToInteractive(key) {\n",
              "        const element = document.querySelector('#df-c8f8d4d4-3452-431f-a46b-af62f6c05b3a');\n",
              "        const dataTable =\n",
              "          await google.colab.kernel.invokeFunction('convertToInteractive',\n",
              "                                                    [key], {});\n",
              "        if (!dataTable) return;\n",
              "\n",
              "        const docLinkHtml = 'Like what you see? Visit the ' +\n",
              "          '<a target=\"_blank\" href=https://colab.research.google.com/notebooks/data_table.ipynb>data table notebook</a>'\n",
              "          + ' to learn more about interactive tables.';\n",
              "        element.innerHTML = '';\n",
              "        dataTable['output_type'] = 'display_data';\n",
              "        await google.colab.output.renderOutput(dataTable, element);\n",
              "        const docLink = document.createElement('div');\n",
              "        docLink.innerHTML = docLinkHtml;\n",
              "        element.appendChild(docLink);\n",
              "      }\n",
              "    </script>\n",
              "  </div>\n",
              "\n",
              "\n",
              "<div id=\"df-e29638d0-b1d6-4189-ba91-6c9a8d11dc53\">\n",
              "  <button class=\"colab-df-quickchart\" onclick=\"quickchart('df-e29638d0-b1d6-4189-ba91-6c9a8d11dc53')\"\n",
              "            title=\"Suggest charts\"\n",
              "            style=\"display:none;\">\n",
              "\n",
              "<svg xmlns=\"http://www.w3.org/2000/svg\" height=\"24px\"viewBox=\"0 0 24 24\"\n",
              "     width=\"24px\">\n",
              "    <g>\n",
              "        <path d=\"M19 3H5c-1.1 0-2 .9-2 2v14c0 1.1.9 2 2 2h14c1.1 0 2-.9 2-2V5c0-1.1-.9-2-2-2zM9 17H7v-7h2v7zm4 0h-2V7h2v10zm4 0h-2v-4h2v4z\"/>\n",
              "    </g>\n",
              "</svg>\n",
              "  </button>\n",
              "\n",
              "<style>\n",
              "  .colab-df-quickchart {\n",
              "      --bg-color: #E8F0FE;\n",
              "      --fill-color: #1967D2;\n",
              "      --hover-bg-color: #E2EBFA;\n",
              "      --hover-fill-color: #174EA6;\n",
              "      --disabled-fill-color: #AAA;\n",
              "      --disabled-bg-color: #DDD;\n",
              "  }\n",
              "\n",
              "  [theme=dark] .colab-df-quickchart {\n",
              "      --bg-color: #3B4455;\n",
              "      --fill-color: #D2E3FC;\n",
              "      --hover-bg-color: #434B5C;\n",
              "      --hover-fill-color: #FFFFFF;\n",
              "      --disabled-bg-color: #3B4455;\n",
              "      --disabled-fill-color: #666;\n",
              "  }\n",
              "\n",
              "  .colab-df-quickchart {\n",
              "    background-color: var(--bg-color);\n",
              "    border: none;\n",
              "    border-radius: 50%;\n",
              "    cursor: pointer;\n",
              "    display: none;\n",
              "    fill: var(--fill-color);\n",
              "    height: 32px;\n",
              "    padding: 0;\n",
              "    width: 32px;\n",
              "  }\n",
              "\n",
              "  .colab-df-quickchart:hover {\n",
              "    background-color: var(--hover-bg-color);\n",
              "    box-shadow: 0 1px 2px rgba(60, 64, 67, 0.3), 0 1px 3px 1px rgba(60, 64, 67, 0.15);\n",
              "    fill: var(--button-hover-fill-color);\n",
              "  }\n",
              "\n",
              "  .colab-df-quickchart-complete:disabled,\n",
              "  .colab-df-quickchart-complete:disabled:hover {\n",
              "    background-color: var(--disabled-bg-color);\n",
              "    fill: var(--disabled-fill-color);\n",
              "    box-shadow: none;\n",
              "  }\n",
              "\n",
              "  .colab-df-spinner {\n",
              "    border: 2px solid var(--fill-color);\n",
              "    border-color: transparent;\n",
              "    border-bottom-color: var(--fill-color);\n",
              "    animation:\n",
              "      spin 1s steps(1) infinite;\n",
              "  }\n",
              "\n",
              "  @keyframes spin {\n",
              "    0% {\n",
              "      border-color: transparent;\n",
              "      border-bottom-color: var(--fill-color);\n",
              "      border-left-color: var(--fill-color);\n",
              "    }\n",
              "    20% {\n",
              "      border-color: transparent;\n",
              "      border-left-color: var(--fill-color);\n",
              "      border-top-color: var(--fill-color);\n",
              "    }\n",
              "    30% {\n",
              "      border-color: transparent;\n",
              "      border-left-color: var(--fill-color);\n",
              "      border-top-color: var(--fill-color);\n",
              "      border-right-color: var(--fill-color);\n",
              "    }\n",
              "    40% {\n",
              "      border-color: transparent;\n",
              "      border-right-color: var(--fill-color);\n",
              "      border-top-color: var(--fill-color);\n",
              "    }\n",
              "    60% {\n",
              "      border-color: transparent;\n",
              "      border-right-color: var(--fill-color);\n",
              "    }\n",
              "    80% {\n",
              "      border-color: transparent;\n",
              "      border-right-color: var(--fill-color);\n",
              "      border-bottom-color: var(--fill-color);\n",
              "    }\n",
              "    90% {\n",
              "      border-color: transparent;\n",
              "      border-bottom-color: var(--fill-color);\n",
              "    }\n",
              "  }\n",
              "</style>\n",
              "\n",
              "  <script>\n",
              "    async function quickchart(key) {\n",
              "      const quickchartButtonEl =\n",
              "        document.querySelector('#' + key + ' button');\n",
              "      quickchartButtonEl.disabled = true;  // To prevent multiple clicks.\n",
              "      quickchartButtonEl.classList.add('colab-df-spinner');\n",
              "      try {\n",
              "        const charts = await google.colab.kernel.invokeFunction(\n",
              "            'suggestCharts', [key], {});\n",
              "      } catch (error) {\n",
              "        console.error('Error during call to suggestCharts:', error);\n",
              "      }\n",
              "      quickchartButtonEl.classList.remove('colab-df-spinner');\n",
              "      quickchartButtonEl.classList.add('colab-df-quickchart-complete');\n",
              "    }\n",
              "    (() => {\n",
              "      let quickchartButtonEl =\n",
              "        document.querySelector('#df-e29638d0-b1d6-4189-ba91-6c9a8d11dc53 button');\n",
              "      quickchartButtonEl.style.display =\n",
              "        google.colab.kernel.accessAllowed ? 'block' : 'none';\n",
              "    })();\n",
              "  </script>\n",
              "</div>\n",
              "\n",
              "    </div>\n",
              "  </div>\n"
            ],
            "application/vnd.google.colaboratory.intrinsic+json": {
              "type": "dataframe",
              "variable_name": "df_transformed",
              "summary": "{\n  \"name\": \"df_transformed\",\n  \"rows\": 17633,\n  \"fields\": [\n    {\n      \"column\": \"gender\",\n      \"properties\": {\n        \"dtype\": \"category\",\n        \"num_unique_values\": 2,\n        \"samples\": [\n          \"male\",\n          \"female\"\n        ],\n        \"semantic_type\": \"\",\n        \"description\": \"\"\n      }\n    },\n    {\n      \"column\": \"condition\",\n      \"properties\": {\n        \"dtype\": \"category\",\n        \"num_unique_values\": 2,\n        \"samples\": [\n          \"with_dysarthria\",\n          \"without_dysarthria\"\n        ],\n        \"semantic_type\": \"\",\n        \"description\": \"\"\n      }\n    },\n    {\n      \"column\": \"filepath\",\n      \"properties\": {\n        \"dtype\": \"string\",\n        \"num_unique_values\": 17631,\n        \"samples\": [\n          \"/content/drive/MyDrive/Speech project/torgo_dataset/M_Con/wav_arrayMic_MC04S01/wav_arrayMic_MC04S01_0531.wav\",\n          \"/content/drive/MyDrive/Speech project/torgo_dataset/M_Con/wav_arrayMic_MC02S02/wav_arrayMic_MC02S02_0034.wav\"\n        ],\n        \"semantic_type\": \"\",\n        \"description\": \"\"\n      }\n    },\n    {\n      \"column\": \"label\",\n      \"properties\": {\n        \"dtype\": \"number\",\n        \"std\": 0.47707489299635975,\n        \"min\": 0.0,\n        \"max\": 1.0,\n        \"num_unique_values\": 2,\n        \"samples\": [\n          1.0,\n          0.0\n        ],\n        \"semantic_type\": \"\",\n        \"description\": \"\"\n      }\n    },\n    {\n      \"column\": \"features\",\n      \"properties\": {\n        \"dtype\": \"object\",\n        \"semantic_type\": \"\",\n        \"description\": \"\"\n      }\n    },\n    {\n      \"column\": \"gender_mapped\",\n      \"properties\": {\n        \"dtype\": \"number\",\n        \"std\": 0.490068669258856,\n        \"min\": 0.0,\n        \"max\": 1.0,\n        \"num_unique_values\": 2,\n        \"samples\": [\n          0.0,\n          1.0\n        ],\n        \"semantic_type\": \"\",\n        \"description\": \"\"\n      }\n    },\n    {\n      \"column\": \"M1\",\n      \"properties\": {\n        \"dtype\": \"float32\",\n        \"num_unique_values\": 17602,\n        \"samples\": [\n          -439.9179382324219,\n          -283.0518493652344\n        ],\n        \"semantic_type\": \"\",\n        \"description\": \"\"\n      }\n    },\n    {\n      \"column\": \"M2\",\n      \"properties\": {\n        \"dtype\": \"float32\",\n        \"num_unique_values\": 17623,\n        \"samples\": [\n          50.61026382446289,\n          124.79553985595703\n        ],\n        \"semantic_type\": \"\",\n        \"description\": \"\"\n      }\n    },\n    {\n      \"column\": \"M3\",\n      \"properties\": {\n        \"dtype\": \"float32\",\n        \"num_unique_values\": 17625,\n        \"samples\": [\n          -14.737605094909668,\n          -22.71281623840332\n        ],\n        \"semantic_type\": \"\",\n        \"description\": \"\"\n      }\n    },\n    {\n      \"column\": \"M4\",\n      \"properties\": {\n        \"dtype\": \"float32\",\n        \"num_unique_values\": 17611,\n        \"samples\": [\n          23.154083251953125,\n          38.98295211791992\n        ],\n        \"semantic_type\": \"\",\n        \"description\": \"\"\n      }\n    },\n    {\n      \"column\": \"M5\",\n      \"properties\": {\n        \"dtype\": \"float32\",\n        \"num_unique_values\": 17620,\n        \"samples\": [\n          -17.642345428466797,\n          -27.711265563964844\n        ],\n        \"semantic_type\": \"\",\n        \"description\": \"\"\n      }\n    },\n    {\n      \"column\": \"M6\",\n      \"properties\": {\n        \"dtype\": \"float32\",\n        \"num_unique_values\": 17616,\n        \"samples\": [\n          40.32671356201172,\n          34.29039001464844\n        ],\n        \"semantic_type\": \"\",\n        \"description\": \"\"\n      }\n    },\n    {\n      \"column\": \"M7\",\n      \"properties\": {\n        \"dtype\": \"float32\",\n        \"num_unique_values\": 17627,\n        \"samples\": [\n          -2.7427074909210205,\n          -2.3803958892822266\n        ],\n        \"semantic_type\": \"\",\n        \"description\": \"\"\n      }\n    },\n    {\n      \"column\": \"M8\",\n      \"properties\": {\n        \"dtype\": \"float32\",\n        \"num_unique_values\": 17625,\n        \"samples\": [\n          16.40534019470215,\n          14.785677909851074\n        ],\n        \"semantic_type\": \"\",\n        \"description\": \"\"\n      }\n    },\n    {\n      \"column\": \"M9\",\n      \"properties\": {\n        \"dtype\": \"float32\",\n        \"num_unique_values\": 17623,\n        \"samples\": [\n          -13.106535911560059,\n          4.193347454071045\n        ],\n        \"semantic_type\": \"\",\n        \"description\": \"\"\n      }\n    },\n    {\n      \"column\": \"M10\",\n      \"properties\": {\n        \"dtype\": \"float32\",\n        \"num_unique_values\": 17628,\n        \"samples\": [\n          -1.6968034505844116,\n          1.090539813041687\n        ],\n        \"semantic_type\": \"\",\n        \"description\": \"\"\n      }\n    },\n    {\n      \"column\": \"M11\",\n      \"properties\": {\n        \"dtype\": \"float32\",\n        \"num_unique_values\": 17626,\n        \"samples\": [\n          6.094621181488037,\n          6.288877010345459\n        ],\n        \"semantic_type\": \"\",\n        \"description\": \"\"\n      }\n    },\n    {\n      \"column\": \"M12\",\n      \"properties\": {\n        \"dtype\": \"float32\",\n        \"num_unique_values\": 17621,\n        \"samples\": [\n          -3.3424267768859863,\n          -4.0434465408325195\n        ],\n        \"semantic_type\": \"\",\n        \"description\": \"\"\n      }\n    },\n    {\n      \"column\": \"M13\",\n      \"properties\": {\n        \"dtype\": \"float32\",\n        \"num_unique_values\": 17625,\n        \"samples\": [\n          13.169981956481934,\n          11.544681549072266\n        ],\n        \"semantic_type\": \"\",\n        \"description\": \"\"\n      }\n    }\n  ]\n}"
            }
          },
          "metadata": {},
          "execution_count": 36
        }
      ]
    },
    {
      "cell_type": "code",
      "source": [
        "# df_transformed.to_csv('/content/drive/MyDrive/Speech project/backup/df_transformed.csv', index=False)"
      ],
      "metadata": {
        "id": "Z-pxsDEgJilZ"
      },
      "execution_count": 37,
      "outputs": []
    },
    {
      "cell_type": "code",
      "source": [
        "# df_transformed_b = pd.read_csv('/content/drive/MyDrive/Speech project/backup/df_transformed.csv')"
      ],
      "metadata": {
        "id": "LFgXLiVYOsL0"
      },
      "execution_count": 75,
      "outputs": []
    },
    {
      "cell_type": "code",
      "source": [
        "final_df = df_transformed.drop(columns=['filepath', 'gender', 'condition', 'features'])"
      ],
      "metadata": {
        "id": "vlh4WjxDwYVo"
      },
      "execution_count": 88,
      "outputs": []
    },
    {
      "cell_type": "code",
      "source": [
        "final_df.head()"
      ],
      "metadata": {
        "colab": {
          "base_uri": "https://localhost:8080/",
          "height": 226
        },
        "id": "XwUe4o8jxAcm",
        "outputId": "a5a23667-39d5-4679-bd21-7485ec496961"
      },
      "execution_count": 89,
      "outputs": [
        {
          "output_type": "execute_result",
          "data": {
            "text/plain": [
              "   label  gender_mapped          M1          M2         M3         M4  \\\n",
              "0    0.0            1.0 -358.843353   71.042953 -32.117542  42.714172   \n",
              "1    0.0            1.0 -343.886749   82.971405 -40.797176  39.157413   \n",
              "2    0.0            1.0 -462.881561   46.607544 -27.719397  63.342495   \n",
              "3    0.0            1.0 -332.154663  102.166664 -25.712492  50.536175   \n",
              "4    0.0            1.0 -422.304565   49.911900 -27.106886  43.812088   \n",
              "\n",
              "          M5         M6         M7         M8         M9       M10       M11  \\\n",
              "0 -17.732943  25.136646 -36.299854  22.689983 -22.859261 -7.145495  0.720612   \n",
              "1 -14.799722  25.428030 -43.460384  24.068468 -19.959249 -8.992933 -1.912487   \n",
              "2 -48.534657  52.226501 -42.370602  35.662411 -14.626758  8.518962 -2.678352   \n",
              "3 -11.837389  34.544975 -33.452698  26.458591 -19.854198 -1.522977  4.753811   \n",
              "4 -34.403488  41.976273 -41.110710  21.874905 -15.505911  4.716015 -0.770872   \n",
              "\n",
              "        M12        M13  \n",
              "0 -8.173335  -4.656964  \n",
              "1 -8.741645  -5.621877  \n",
              "2 -0.215523  14.844447  \n",
              "3 -6.369249  -4.985842  \n",
              "4 -1.581828  10.786043  "
            ],
            "text/html": [
              "\n",
              "  <div id=\"df-9e29c436-db6e-47f6-b69a-8323ea8f82e7\" class=\"colab-df-container\">\n",
              "    <div>\n",
              "<style scoped>\n",
              "    .dataframe tbody tr th:only-of-type {\n",
              "        vertical-align: middle;\n",
              "    }\n",
              "\n",
              "    .dataframe tbody tr th {\n",
              "        vertical-align: top;\n",
              "    }\n",
              "\n",
              "    .dataframe thead th {\n",
              "        text-align: right;\n",
              "    }\n",
              "</style>\n",
              "<table border=\"1\" class=\"dataframe\">\n",
              "  <thead>\n",
              "    <tr style=\"text-align: right;\">\n",
              "      <th></th>\n",
              "      <th>label</th>\n",
              "      <th>gender_mapped</th>\n",
              "      <th>M1</th>\n",
              "      <th>M2</th>\n",
              "      <th>M3</th>\n",
              "      <th>M4</th>\n",
              "      <th>M5</th>\n",
              "      <th>M6</th>\n",
              "      <th>M7</th>\n",
              "      <th>M8</th>\n",
              "      <th>M9</th>\n",
              "      <th>M10</th>\n",
              "      <th>M11</th>\n",
              "      <th>M12</th>\n",
              "      <th>M13</th>\n",
              "    </tr>\n",
              "  </thead>\n",
              "  <tbody>\n",
              "    <tr>\n",
              "      <th>0</th>\n",
              "      <td>0.0</td>\n",
              "      <td>1.0</td>\n",
              "      <td>-358.843353</td>\n",
              "      <td>71.042953</td>\n",
              "      <td>-32.117542</td>\n",
              "      <td>42.714172</td>\n",
              "      <td>-17.732943</td>\n",
              "      <td>25.136646</td>\n",
              "      <td>-36.299854</td>\n",
              "      <td>22.689983</td>\n",
              "      <td>-22.859261</td>\n",
              "      <td>-7.145495</td>\n",
              "      <td>0.720612</td>\n",
              "      <td>-8.173335</td>\n",
              "      <td>-4.656964</td>\n",
              "    </tr>\n",
              "    <tr>\n",
              "      <th>1</th>\n",
              "      <td>0.0</td>\n",
              "      <td>1.0</td>\n",
              "      <td>-343.886749</td>\n",
              "      <td>82.971405</td>\n",
              "      <td>-40.797176</td>\n",
              "      <td>39.157413</td>\n",
              "      <td>-14.799722</td>\n",
              "      <td>25.428030</td>\n",
              "      <td>-43.460384</td>\n",
              "      <td>24.068468</td>\n",
              "      <td>-19.959249</td>\n",
              "      <td>-8.992933</td>\n",
              "      <td>-1.912487</td>\n",
              "      <td>-8.741645</td>\n",
              "      <td>-5.621877</td>\n",
              "    </tr>\n",
              "    <tr>\n",
              "      <th>2</th>\n",
              "      <td>0.0</td>\n",
              "      <td>1.0</td>\n",
              "      <td>-462.881561</td>\n",
              "      <td>46.607544</td>\n",
              "      <td>-27.719397</td>\n",
              "      <td>63.342495</td>\n",
              "      <td>-48.534657</td>\n",
              "      <td>52.226501</td>\n",
              "      <td>-42.370602</td>\n",
              "      <td>35.662411</td>\n",
              "      <td>-14.626758</td>\n",
              "      <td>8.518962</td>\n",
              "      <td>-2.678352</td>\n",
              "      <td>-0.215523</td>\n",
              "      <td>14.844447</td>\n",
              "    </tr>\n",
              "    <tr>\n",
              "      <th>3</th>\n",
              "      <td>0.0</td>\n",
              "      <td>1.0</td>\n",
              "      <td>-332.154663</td>\n",
              "      <td>102.166664</td>\n",
              "      <td>-25.712492</td>\n",
              "      <td>50.536175</td>\n",
              "      <td>-11.837389</td>\n",
              "      <td>34.544975</td>\n",
              "      <td>-33.452698</td>\n",
              "      <td>26.458591</td>\n",
              "      <td>-19.854198</td>\n",
              "      <td>-1.522977</td>\n",
              "      <td>4.753811</td>\n",
              "      <td>-6.369249</td>\n",
              "      <td>-4.985842</td>\n",
              "    </tr>\n",
              "    <tr>\n",
              "      <th>4</th>\n",
              "      <td>0.0</td>\n",
              "      <td>1.0</td>\n",
              "      <td>-422.304565</td>\n",
              "      <td>49.911900</td>\n",
              "      <td>-27.106886</td>\n",
              "      <td>43.812088</td>\n",
              "      <td>-34.403488</td>\n",
              "      <td>41.976273</td>\n",
              "      <td>-41.110710</td>\n",
              "      <td>21.874905</td>\n",
              "      <td>-15.505911</td>\n",
              "      <td>4.716015</td>\n",
              "      <td>-0.770872</td>\n",
              "      <td>-1.581828</td>\n",
              "      <td>10.786043</td>\n",
              "    </tr>\n",
              "  </tbody>\n",
              "</table>\n",
              "</div>\n",
              "    <div class=\"colab-df-buttons\">\n",
              "\n",
              "  <div class=\"colab-df-container\">\n",
              "    <button class=\"colab-df-convert\" onclick=\"convertToInteractive('df-9e29c436-db6e-47f6-b69a-8323ea8f82e7')\"\n",
              "            title=\"Convert this dataframe to an interactive table.\"\n",
              "            style=\"display:none;\">\n",
              "\n",
              "  <svg xmlns=\"http://www.w3.org/2000/svg\" height=\"24px\" viewBox=\"0 -960 960 960\">\n",
              "    <path d=\"M120-120v-720h720v720H120Zm60-500h600v-160H180v160Zm220 220h160v-160H400v160Zm0 220h160v-160H400v160ZM180-400h160v-160H180v160Zm440 0h160v-160H620v160ZM180-180h160v-160H180v160Zm440 0h160v-160H620v160Z\"/>\n",
              "  </svg>\n",
              "    </button>\n",
              "\n",
              "  <style>\n",
              "    .colab-df-container {\n",
              "      display:flex;\n",
              "      gap: 12px;\n",
              "    }\n",
              "\n",
              "    .colab-df-convert {\n",
              "      background-color: #E8F0FE;\n",
              "      border: none;\n",
              "      border-radius: 50%;\n",
              "      cursor: pointer;\n",
              "      display: none;\n",
              "      fill: #1967D2;\n",
              "      height: 32px;\n",
              "      padding: 0 0 0 0;\n",
              "      width: 32px;\n",
              "    }\n",
              "\n",
              "    .colab-df-convert:hover {\n",
              "      background-color: #E2EBFA;\n",
              "      box-shadow: 0px 1px 2px rgba(60, 64, 67, 0.3), 0px 1px 3px 1px rgba(60, 64, 67, 0.15);\n",
              "      fill: #174EA6;\n",
              "    }\n",
              "\n",
              "    .colab-df-buttons div {\n",
              "      margin-bottom: 4px;\n",
              "    }\n",
              "\n",
              "    [theme=dark] .colab-df-convert {\n",
              "      background-color: #3B4455;\n",
              "      fill: #D2E3FC;\n",
              "    }\n",
              "\n",
              "    [theme=dark] .colab-df-convert:hover {\n",
              "      background-color: #434B5C;\n",
              "      box-shadow: 0px 1px 3px 1px rgba(0, 0, 0, 0.15);\n",
              "      filter: drop-shadow(0px 1px 2px rgba(0, 0, 0, 0.3));\n",
              "      fill: #FFFFFF;\n",
              "    }\n",
              "  </style>\n",
              "\n",
              "    <script>\n",
              "      const buttonEl =\n",
              "        document.querySelector('#df-9e29c436-db6e-47f6-b69a-8323ea8f82e7 button.colab-df-convert');\n",
              "      buttonEl.style.display =\n",
              "        google.colab.kernel.accessAllowed ? 'block' : 'none';\n",
              "\n",
              "      async function convertToInteractive(key) {\n",
              "        const element = document.querySelector('#df-9e29c436-db6e-47f6-b69a-8323ea8f82e7');\n",
              "        const dataTable =\n",
              "          await google.colab.kernel.invokeFunction('convertToInteractive',\n",
              "                                                    [key], {});\n",
              "        if (!dataTable) return;\n",
              "\n",
              "        const docLinkHtml = 'Like what you see? Visit the ' +\n",
              "          '<a target=\"_blank\" href=https://colab.research.google.com/notebooks/data_table.ipynb>data table notebook</a>'\n",
              "          + ' to learn more about interactive tables.';\n",
              "        element.innerHTML = '';\n",
              "        dataTable['output_type'] = 'display_data';\n",
              "        await google.colab.output.renderOutput(dataTable, element);\n",
              "        const docLink = document.createElement('div');\n",
              "        docLink.innerHTML = docLinkHtml;\n",
              "        element.appendChild(docLink);\n",
              "      }\n",
              "    </script>\n",
              "  </div>\n",
              "\n",
              "\n",
              "<div id=\"df-b082c446-310b-4262-931f-f6ec8f8bb157\">\n",
              "  <button class=\"colab-df-quickchart\" onclick=\"quickchart('df-b082c446-310b-4262-931f-f6ec8f8bb157')\"\n",
              "            title=\"Suggest charts\"\n",
              "            style=\"display:none;\">\n",
              "\n",
              "<svg xmlns=\"http://www.w3.org/2000/svg\" height=\"24px\"viewBox=\"0 0 24 24\"\n",
              "     width=\"24px\">\n",
              "    <g>\n",
              "        <path d=\"M19 3H5c-1.1 0-2 .9-2 2v14c0 1.1.9 2 2 2h14c1.1 0 2-.9 2-2V5c0-1.1-.9-2-2-2zM9 17H7v-7h2v7zm4 0h-2V7h2v10zm4 0h-2v-4h2v4z\"/>\n",
              "    </g>\n",
              "</svg>\n",
              "  </button>\n",
              "\n",
              "<style>\n",
              "  .colab-df-quickchart {\n",
              "      --bg-color: #E8F0FE;\n",
              "      --fill-color: #1967D2;\n",
              "      --hover-bg-color: #E2EBFA;\n",
              "      --hover-fill-color: #174EA6;\n",
              "      --disabled-fill-color: #AAA;\n",
              "      --disabled-bg-color: #DDD;\n",
              "  }\n",
              "\n",
              "  [theme=dark] .colab-df-quickchart {\n",
              "      --bg-color: #3B4455;\n",
              "      --fill-color: #D2E3FC;\n",
              "      --hover-bg-color: #434B5C;\n",
              "      --hover-fill-color: #FFFFFF;\n",
              "      --disabled-bg-color: #3B4455;\n",
              "      --disabled-fill-color: #666;\n",
              "  }\n",
              "\n",
              "  .colab-df-quickchart {\n",
              "    background-color: var(--bg-color);\n",
              "    border: none;\n",
              "    border-radius: 50%;\n",
              "    cursor: pointer;\n",
              "    display: none;\n",
              "    fill: var(--fill-color);\n",
              "    height: 32px;\n",
              "    padding: 0;\n",
              "    width: 32px;\n",
              "  }\n",
              "\n",
              "  .colab-df-quickchart:hover {\n",
              "    background-color: var(--hover-bg-color);\n",
              "    box-shadow: 0 1px 2px rgba(60, 64, 67, 0.3), 0 1px 3px 1px rgba(60, 64, 67, 0.15);\n",
              "    fill: var(--button-hover-fill-color);\n",
              "  }\n",
              "\n",
              "  .colab-df-quickchart-complete:disabled,\n",
              "  .colab-df-quickchart-complete:disabled:hover {\n",
              "    background-color: var(--disabled-bg-color);\n",
              "    fill: var(--disabled-fill-color);\n",
              "    box-shadow: none;\n",
              "  }\n",
              "\n",
              "  .colab-df-spinner {\n",
              "    border: 2px solid var(--fill-color);\n",
              "    border-color: transparent;\n",
              "    border-bottom-color: var(--fill-color);\n",
              "    animation:\n",
              "      spin 1s steps(1) infinite;\n",
              "  }\n",
              "\n",
              "  @keyframes spin {\n",
              "    0% {\n",
              "      border-color: transparent;\n",
              "      border-bottom-color: var(--fill-color);\n",
              "      border-left-color: var(--fill-color);\n",
              "    }\n",
              "    20% {\n",
              "      border-color: transparent;\n",
              "      border-left-color: var(--fill-color);\n",
              "      border-top-color: var(--fill-color);\n",
              "    }\n",
              "    30% {\n",
              "      border-color: transparent;\n",
              "      border-left-color: var(--fill-color);\n",
              "      border-top-color: var(--fill-color);\n",
              "      border-right-color: var(--fill-color);\n",
              "    }\n",
              "    40% {\n",
              "      border-color: transparent;\n",
              "      border-right-color: var(--fill-color);\n",
              "      border-top-color: var(--fill-color);\n",
              "    }\n",
              "    60% {\n",
              "      border-color: transparent;\n",
              "      border-right-color: var(--fill-color);\n",
              "    }\n",
              "    80% {\n",
              "      border-color: transparent;\n",
              "      border-right-color: var(--fill-color);\n",
              "      border-bottom-color: var(--fill-color);\n",
              "    }\n",
              "    90% {\n",
              "      border-color: transparent;\n",
              "      border-bottom-color: var(--fill-color);\n",
              "    }\n",
              "  }\n",
              "</style>\n",
              "\n",
              "  <script>\n",
              "    async function quickchart(key) {\n",
              "      const quickchartButtonEl =\n",
              "        document.querySelector('#' + key + ' button');\n",
              "      quickchartButtonEl.disabled = true;  // To prevent multiple clicks.\n",
              "      quickchartButtonEl.classList.add('colab-df-spinner');\n",
              "      try {\n",
              "        const charts = await google.colab.kernel.invokeFunction(\n",
              "            'suggestCharts', [key], {});\n",
              "      } catch (error) {\n",
              "        console.error('Error during call to suggestCharts:', error);\n",
              "      }\n",
              "      quickchartButtonEl.classList.remove('colab-df-spinner');\n",
              "      quickchartButtonEl.classList.add('colab-df-quickchart-complete');\n",
              "    }\n",
              "    (() => {\n",
              "      let quickchartButtonEl =\n",
              "        document.querySelector('#df-b082c446-310b-4262-931f-f6ec8f8bb157 button');\n",
              "      quickchartButtonEl.style.display =\n",
              "        google.colab.kernel.accessAllowed ? 'block' : 'none';\n",
              "    })();\n",
              "  </script>\n",
              "</div>\n",
              "\n",
              "    </div>\n",
              "  </div>\n"
            ],
            "application/vnd.google.colaboratory.intrinsic+json": {
              "type": "dataframe",
              "variable_name": "final_df",
              "summary": "{\n  \"name\": \"final_df\",\n  \"rows\": 17633,\n  \"fields\": [\n    {\n      \"column\": \"label\",\n      \"properties\": {\n        \"dtype\": \"number\",\n        \"std\": 0.47707489299635975,\n        \"min\": 0.0,\n        \"max\": 1.0,\n        \"num_unique_values\": 2,\n        \"samples\": [\n          1.0,\n          0.0\n        ],\n        \"semantic_type\": \"\",\n        \"description\": \"\"\n      }\n    },\n    {\n      \"column\": \"gender_mapped\",\n      \"properties\": {\n        \"dtype\": \"number\",\n        \"std\": 0.490068669258856,\n        \"min\": 0.0,\n        \"max\": 1.0,\n        \"num_unique_values\": 2,\n        \"samples\": [\n          0.0,\n          1.0\n        ],\n        \"semantic_type\": \"\",\n        \"description\": \"\"\n      }\n    },\n    {\n      \"column\": \"M1\",\n      \"properties\": {\n        \"dtype\": \"float32\",\n        \"num_unique_values\": 17602,\n        \"samples\": [\n          -439.9179382324219,\n          -283.0518493652344\n        ],\n        \"semantic_type\": \"\",\n        \"description\": \"\"\n      }\n    },\n    {\n      \"column\": \"M2\",\n      \"properties\": {\n        \"dtype\": \"float32\",\n        \"num_unique_values\": 17623,\n        \"samples\": [\n          50.61026382446289,\n          124.79553985595703\n        ],\n        \"semantic_type\": \"\",\n        \"description\": \"\"\n      }\n    },\n    {\n      \"column\": \"M3\",\n      \"properties\": {\n        \"dtype\": \"float32\",\n        \"num_unique_values\": 17625,\n        \"samples\": [\n          -14.737605094909668,\n          -22.71281623840332\n        ],\n        \"semantic_type\": \"\",\n        \"description\": \"\"\n      }\n    },\n    {\n      \"column\": \"M4\",\n      \"properties\": {\n        \"dtype\": \"float32\",\n        \"num_unique_values\": 17611,\n        \"samples\": [\n          23.154083251953125,\n          38.98295211791992\n        ],\n        \"semantic_type\": \"\",\n        \"description\": \"\"\n      }\n    },\n    {\n      \"column\": \"M5\",\n      \"properties\": {\n        \"dtype\": \"float32\",\n        \"num_unique_values\": 17620,\n        \"samples\": [\n          -17.642345428466797,\n          -27.711265563964844\n        ],\n        \"semantic_type\": \"\",\n        \"description\": \"\"\n      }\n    },\n    {\n      \"column\": \"M6\",\n      \"properties\": {\n        \"dtype\": \"float32\",\n        \"num_unique_values\": 17616,\n        \"samples\": [\n          40.32671356201172,\n          34.29039001464844\n        ],\n        \"semantic_type\": \"\",\n        \"description\": \"\"\n      }\n    },\n    {\n      \"column\": \"M7\",\n      \"properties\": {\n        \"dtype\": \"float32\",\n        \"num_unique_values\": 17627,\n        \"samples\": [\n          -2.7427074909210205,\n          -2.3803958892822266\n        ],\n        \"semantic_type\": \"\",\n        \"description\": \"\"\n      }\n    },\n    {\n      \"column\": \"M8\",\n      \"properties\": {\n        \"dtype\": \"float32\",\n        \"num_unique_values\": 17625,\n        \"samples\": [\n          16.40534019470215,\n          14.785677909851074\n        ],\n        \"semantic_type\": \"\",\n        \"description\": \"\"\n      }\n    },\n    {\n      \"column\": \"M9\",\n      \"properties\": {\n        \"dtype\": \"float32\",\n        \"num_unique_values\": 17623,\n        \"samples\": [\n          -13.106535911560059,\n          4.193347454071045\n        ],\n        \"semantic_type\": \"\",\n        \"description\": \"\"\n      }\n    },\n    {\n      \"column\": \"M10\",\n      \"properties\": {\n        \"dtype\": \"float32\",\n        \"num_unique_values\": 17628,\n        \"samples\": [\n          -1.6968034505844116,\n          1.090539813041687\n        ],\n        \"semantic_type\": \"\",\n        \"description\": \"\"\n      }\n    },\n    {\n      \"column\": \"M11\",\n      \"properties\": {\n        \"dtype\": \"float32\",\n        \"num_unique_values\": 17626,\n        \"samples\": [\n          6.094621181488037,\n          6.288877010345459\n        ],\n        \"semantic_type\": \"\",\n        \"description\": \"\"\n      }\n    },\n    {\n      \"column\": \"M12\",\n      \"properties\": {\n        \"dtype\": \"float32\",\n        \"num_unique_values\": 17621,\n        \"samples\": [\n          -3.3424267768859863,\n          -4.0434465408325195\n        ],\n        \"semantic_type\": \"\",\n        \"description\": \"\"\n      }\n    },\n    {\n      \"column\": \"M13\",\n      \"properties\": {\n        \"dtype\": \"float32\",\n        \"num_unique_values\": 17625,\n        \"samples\": [\n          13.169981956481934,\n          11.544681549072266\n        ],\n        \"semantic_type\": \"\",\n        \"description\": \"\"\n      }\n    }\n  ]\n}"
            }
          },
          "metadata": {},
          "execution_count": 89
        }
      ]
    },
    {
      "cell_type": "code",
      "source": [
        "final_df = final_df.dropna()"
      ],
      "metadata": {
        "id": "npw_TyAxMX53"
      },
      "execution_count": 204,
      "outputs": []
    },
    {
      "cell_type": "markdown",
      "source": [
        "## Train test split"
      ],
      "metadata": {
        "id": "11rgSSR0xotw"
      }
    },
    {
      "cell_type": "code",
      "source": [
        "# Train-Test Split and Model Training\n",
        "\n",
        "X_train, X_test, y_train, y_test = train_test_split(final_df.drop('label',axis=1), final_df['label'], test_size=0.3, random_state=42)"
      ],
      "metadata": {
        "id": "0K9o8x0HtvJ3"
      },
      "execution_count": 260,
      "outputs": []
    },
    {
      "cell_type": "markdown",
      "source": [
        "## Feature Engineering - Dysarthria Gender Split"
      ],
      "metadata": {
        "id": "3DSrHHYI7g1N"
      }
    },
    {
      "cell_type": "code",
      "source": [],
      "metadata": {
        "id": "-n5JDGwB7ZXI"
      },
      "execution_count": 260,
      "outputs": []
    },
    {
      "cell_type": "code",
      "source": [
        "# Dysarthria Gender Split feature\n",
        "\n",
        "X_train['label'] = y_train\n",
        "\n",
        "gender_label_avg = X_train.groupby(\"gender_mapped\")['label'].mean().to_dict()\n",
        "\n",
        "X_train[\"gl_avg\"] = X_train[\"gender_mapped\"].map(gender_label_avg)\n",
        "X_test[\"gl_avg\"] = X_test[\"gender_mapped\"].map(gender_label_avg)"
      ],
      "metadata": {
        "id": "WxSRH_N5QVfO"
      },
      "execution_count": 261,
      "outputs": []
    },
    {
      "cell_type": "code",
      "source": [
        "X_train.drop(columns=[\"label\",\"gender_mapped\"],inplace=True)\n",
        "X_test.drop(columns=[\"gender_mapped\"],inplace=True)"
      ],
      "metadata": {
        "id": "CdvuOD-BVs5Z"
      },
      "execution_count": 262,
      "outputs": []
    },
    {
      "cell_type": "code",
      "source": [
        "X_train.columns"
      ],
      "metadata": {
        "colab": {
          "base_uri": "https://localhost:8080/"
        },
        "id": "EmyxanvMdL1F",
        "outputId": "206483d1-c118-4af4-c3bd-4813ce31e42a"
      },
      "execution_count": 266,
      "outputs": [
        {
          "output_type": "execute_result",
          "data": {
            "text/plain": [
              "Index(['M1', 'M2', 'M3', 'M4', 'M5', 'M6', 'M7', 'M8', 'M9', 'M10', 'M11',\n",
              "       'M12', 'M13', 'gl_avg'],\n",
              "      dtype='object')"
            ]
          },
          "metadata": {},
          "execution_count": 266
        }
      ]
    },
    {
      "cell_type": "code",
      "source": [
        "X_test.columns"
      ],
      "metadata": {
        "colab": {
          "base_uri": "https://localhost:8080/"
        },
        "id": "IqnKGNnqxuaj",
        "outputId": "54421e5b-b296-42ac-9a9b-a5eb40859b71"
      },
      "execution_count": 267,
      "outputs": [
        {
          "output_type": "execute_result",
          "data": {
            "text/plain": [
              "Index(['M1', 'M2', 'M3', 'M4', 'M5', 'M6', 'M7', 'M8', 'M9', 'M10', 'M11',\n",
              "       'M12', 'M13', 'gl_avg'],\n",
              "      dtype='object')"
            ]
          },
          "metadata": {},
          "execution_count": 267
        }
      ]
    },
    {
      "cell_type": "markdown",
      "source": [
        "## Modeling: LGBM"
      ],
      "metadata": {
        "id": "N0HBREnUjjTE"
      }
    },
    {
      "cell_type": "code",
      "source": [
        "# LightGBM dataset with feature names\n",
        "feature_names = X_train.columns.tolist()\n",
        "\n",
        "lgb_train = lgb.Dataset(X_train, label=y_train, feature_name=feature_names)\n",
        "lgb_test = lgb.Dataset(X_test, label=y_test, reference=lgb_train)"
      ],
      "metadata": {
        "id": "Pwzhmdd_jiuy"
      },
      "execution_count": 265,
      "outputs": []
    },
    {
      "cell_type": "code",
      "source": [
        "# Parameters for the LightGBM model\n",
        "params = {\n",
        "    'objective': 'binary',           # Binary classification\n",
        "    'metric': 'binary_logloss',      # Log loss metric\n",
        "    'boosting_type': 'gbdt',         # Gradient Boosting Decision Tree\n",
        "    'num_leaves': 31,                # Maximum number of leaves in one tree\n",
        "    'learning_rate': 0.05,           # Step size for updates\n",
        "    'feature_fraction': 0.9,          # Percentage of features used per tree\n",
        "    'n_jobs': -1 ,\n",
        "    'verbose': -1\n",
        "}\n"
      ],
      "metadata": {
        "id": "pkZQxrLJsaoC"
      },
      "execution_count": 212,
      "outputs": []
    },
    {
      "cell_type": "code",
      "source": [
        "# Train the model\n",
        "print(\"Training LightGBM model...\")\n",
        "lgbm_model = lgb.train(\n",
        "    params,\n",
        "    lgb_train,\n",
        "    num_boost_round=1000,              # Maximum number of boosting iterations\n",
        "    valid_sets=[lgb_train, lgb_test],  # Validation sets for evaluation\n",
        "    callbacks=[\n",
        "        lgb.early_stopping(stopping_rounds=50),  # Early stopping after 50 rounds\n",
        "        lgb.log_evaluation(period=50)           # Log progress every 50 iterations\n",
        "    ]\n",
        ")"
      ],
      "metadata": {
        "colab": {
          "base_uri": "https://localhost:8080/"
        },
        "id": "eJ9Lo2ajjixt",
        "outputId": "777970ed-6dca-4a96-8867-1138bafb2780"
      },
      "execution_count": 213,
      "outputs": [
        {
          "output_type": "stream",
          "name": "stdout",
          "text": [
            "Training LightGBM model...\n",
            "Training until validation scores don't improve for 50 rounds\n",
            "[50]\ttraining's binary_logloss: 0.238082\tvalid_1's binary_logloss: 0.266394\n",
            "[100]\ttraining's binary_logloss: 0.155435\tvalid_1's binary_logloss: 0.197528\n",
            "[150]\ttraining's binary_logloss: 0.119687\tvalid_1's binary_logloss: 0.172711\n",
            "[200]\ttraining's binary_logloss: 0.0961342\tvalid_1's binary_logloss: 0.158532\n",
            "[250]\ttraining's binary_logloss: 0.0793581\tvalid_1's binary_logloss: 0.150068\n",
            "[300]\ttraining's binary_logloss: 0.0662734\tvalid_1's binary_logloss: 0.145185\n",
            "[350]\ttraining's binary_logloss: 0.0558909\tvalid_1's binary_logloss: 0.141282\n",
            "[400]\ttraining's binary_logloss: 0.0469998\tvalid_1's binary_logloss: 0.138332\n",
            "[450]\ttraining's binary_logloss: 0.0396153\tvalid_1's binary_logloss: 0.136051\n",
            "[500]\ttraining's binary_logloss: 0.0333767\tvalid_1's binary_logloss: 0.133622\n",
            "[550]\ttraining's binary_logloss: 0.0280995\tvalid_1's binary_logloss: 0.132508\n",
            "[600]\ttraining's binary_logloss: 0.0236637\tvalid_1's binary_logloss: 0.131727\n",
            "Early stopping, best iteration is:\n",
            "[579]\ttraining's binary_logloss: 0.0252585\tvalid_1's binary_logloss: 0.13147\n"
          ]
        }
      ]
    },
    {
      "cell_type": "code",
      "source": [
        "# # Save the model for deployment\n",
        "# lgbm_model.save_model('/content/drive/MyDrive/Speech project/lightgbm_model.txt')"
      ],
      "metadata": {
        "id": "xPeJQHl8YNqh"
      },
      "execution_count": 214,
      "outputs": []
    },
    {
      "cell_type": "markdown",
      "source": [
        "## Make Predictions"
      ],
      "metadata": {
        "id": "sJ71Tvi7xGe0"
      }
    },
    {
      "cell_type": "code",
      "source": [
        "# Make predictions\n",
        "y_pred_proba = lgbm_model.predict(X_test)  # Predicted probabilities\n",
        "y_pred = (y_pred_proba > 0.5).astype(int)  # Convert probabilities to binary predictions"
      ],
      "metadata": {
        "id": "RJgxx86nrqFm"
      },
      "execution_count": 215,
      "outputs": []
    },
    {
      "cell_type": "markdown",
      "source": [
        "## Model Evaluation"
      ],
      "metadata": {
        "id": "yYstYVeMxNgT"
      }
    },
    {
      "cell_type": "code",
      "source": [
        "# Evaluate the model\n",
        "target_names = ['Non Dysarthria', 'Dysarthria']\n",
        "\n",
        "# Custom target names\n",
        "print(\"\\nClassification Report:\")\n",
        "print(classification_report(y_test, y_pred, target_names=target_names))"
      ],
      "metadata": {
        "colab": {
          "base_uri": "https://localhost:8080/"
        },
        "id": "YEChJVdFrqIK",
        "outputId": "126994cd-9b30-4f07-9e6a-876781c09df8"
      },
      "execution_count": 222,
      "outputs": [
        {
          "output_type": "stream",
          "name": "stdout",
          "text": [
            "\n",
            "Classification Report:\n",
            "                precision    recall  f1-score   support\n",
            "\n",
            "Non Dysarthria       0.95      0.98      0.96      3446\n",
            "    Dysarthria       0.95      0.90      0.93      1843\n",
            "\n",
            "      accuracy                           0.95      5289\n",
            "     macro avg       0.95      0.94      0.95      5289\n",
            "  weighted avg       0.95      0.95      0.95      5289\n",
            "\n"
          ]
        }
      ]
    },
    {
      "cell_type": "code",
      "source": [
        "# Confusion Matrix\n",
        "cm = confusion_matrix(y_test, y_pred)\n",
        "plt.figure(figsize=(8, 6))\n",
        "sns.heatmap(cm, annot=True, fmt='d', cmap='Blues', xticklabels=['No Dysarthria', 'Dysarthria'], yticklabels=['No Dysarthria', 'Dysarthria'])\n",
        "plt.title(\"Confusion Matrix - LightGBM\")\n",
        "plt.xlabel(\"Predicted\")\n",
        "plt.ylabel(\"True\")\n",
        "plt.show()"
      ],
      "metadata": {
        "colab": {
          "base_uri": "https://localhost:8080/",
          "height": 564
        },
        "id": "GweWs_lnrqLA",
        "outputId": "04f2b8a4-4ee6-4a42-cc08-54d477ddebda"
      },
      "execution_count": 217,
      "outputs": [
        {
          "output_type": "display_data",
          "data": {
            "text/plain": [
              "<Figure size 800x600 with 2 Axes>"
            ],
            "image/png": "[encoded data removed]"
          },
          "metadata": {}
        }
      ]
    },
    {
      "cell_type": "code",
      "source": [],
      "metadata": {
        "id": "t2EIWZIUrX5T"
      },
      "execution_count": null,
      "outputs": []
    },
    {
      "cell_type": "code",
      "source": [],
      "metadata": {
        "id": "BQWlmUSQrX8P"
      },
      "execution_count": null,
      "outputs": []
    },
    {
      "cell_type": "code",
      "source": [],
      "metadata": {
        "id": "LDGB5C3hrX_Y"
      },
      "execution_count": null,
      "outputs": []
    },
    {
      "cell_type": "code",
      "source": [],
      "metadata": {
        "id": "JLPMbs8MrYCn"
      },
      "execution_count": null,
      "outputs": []
    },
    {
      "cell_type": "code",
      "source": [],
      "metadata": {
        "id": "gmNQE6cgrZK-"
      },
      "execution_count": null,
      "outputs": []
    },
    {
      "cell_type": "code",
      "source": [],
      "metadata": {
        "id": "9KwL1kS9rZOv"
      },
      "execution_count": null,
      "outputs": []
    },
    {
      "cell_type": "code",
      "source": [],
      "metadata": {
        "id": "Zq-EkjJTrZSC"
      },
      "execution_count": null,
      "outputs": []
    },
    {
      "cell_type": "code",
      "source": [],
      "metadata": {
        "id": "Xf1UZM1ArZVJ"
      },
      "execution_count": null,
      "outputs": []
    },
    {
      "cell_type": "code",
      "source": [],
      "metadata": {
        "id": "j_42V355rZYU"
      },
      "execution_count": null,
      "outputs": []
    },
    {
      "cell_type": "code",
      "source": [
        "# # Gain-based importance\n",
        "# gain_importance = lgbm_model.feature_importance(importance_type='gain')\n",
        "\n",
        "# # Feature names\n",
        "# feature_names = lgb_train.feature_name\n",
        "\n",
        "# # Plot Gain-based Feature Importance\n",
        "# plt.figure(figsize=(10, 6))\n",
        "# plt.barh(feature_names, gain_importance)\n",
        "# plt.xlabel(\"Gain Importance\")\n",
        "# plt.ylabel(\"Features\")\n",
        "# plt.title(\"Gain-based Feature Importance\")\n",
        "# plt.show()"
      ],
      "metadata": {
        "id": "CdcDkqwrPN07"
      },
      "execution_count": 224,
      "outputs": []
    },
    {
      "cell_type": "code",
      "source": [
        "# import shap\n",
        "\n",
        "# explainer = shap.TreeExplainer(lgbm_model)\n",
        "# shap_values = explainer.shap_values(X_test)\n",
        "\n",
        "# # Summary plot of SHAP values\n",
        "# shap.summary_plot(shap_values, X_test, feature_names=feature_names)\n"
      ],
      "metadata": {
        "id": "kAsRRyaYPN3y"
      },
      "execution_count": 225,
      "outputs": []
    },
    {
      "cell_type": "code",
      "source": [],
      "metadata": {
        "id": "dDgimtr0PRfs"
      },
      "execution_count": 110,
      "outputs": []
    },
    {
      "cell_type": "code",
      "source": [],
      "metadata": {
        "id": "uN1DXblEPRic"
      },
      "execution_count": 110,
      "outputs": []
    },
    {
      "cell_type": "code",
      "source": [],
      "metadata": {
        "id": "EdpNmNjVPRlO"
      },
      "execution_count": 110,
      "outputs": []
    },
    {
      "cell_type": "code",
      "source": [],
      "metadata": {
        "id": "YKQPHFNTPRoK"
      },
      "execution_count": 110,
      "outputs": []
    },
    {
      "cell_type": "code",
      "source": [],
      "metadata": {
        "id": "70A6sLrcPRrF"
      },
      "execution_count": 110,
      "outputs": []
    },
    {
      "cell_type": "code",
      "source": [],
      "metadata": {
        "id": "-wMPdVOGrqNr"
      },
      "execution_count": 201,
      "outputs": []
    },
    {
      "cell_type": "code",
      "source": [],
      "metadata": {
        "id": "RzUjRuEEZFFm"
      },
      "execution_count": null,
      "outputs": []
    },
    {
      "cell_type": "code",
      "source": [],
      "metadata": {
        "id": "VKDsPdWwZFI6"
      },
      "execution_count": null,
      "outputs": []
    },
    {
      "cell_type": "code",
      "source": [],
      "metadata": {
        "id": "i8BBm42yZFMW"
      },
      "execution_count": null,
      "outputs": []
    },
    {
      "cell_type": "code",
      "source": [],
      "metadata": {
        "id": "9CcALK1_ZFPj"
      },
      "execution_count": null,
      "outputs": []
    },
    {
      "cell_type": "code",
      "source": [],
      "metadata": {
        "id": "xYAwrkkKZFSq"
      },
      "execution_count": null,
      "outputs": []
    },
    {
      "cell_type": "code",
      "source": [],
      "metadata": {
        "id": "-4T-J-mpZFWB"
      },
      "execution_count": null,
      "outputs": []
    }
  ]
}